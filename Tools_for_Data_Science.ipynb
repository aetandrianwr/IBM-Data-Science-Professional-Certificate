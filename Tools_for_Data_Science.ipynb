{
 "cells": [
  {
   "cell_type": "markdown",
   "id": "971eba8e-e362-41c3-a244-2e4f8ffb4480",
   "metadata": {},
   "source": [
    "# Tools for Data Science"
   ]
  },
  {
   "cell_type": "markdown",
   "id": "6fcc95f1",
   "metadata": {},
   "source": [
    "This course introduced you to multiple data science tools, and in this final project, you will use Jupyterlite Notebook, one of the easiest tools to share publicly. "
   ]
  },
  {
   "cell_type": "markdown",
   "id": "e2c27605-396d-4854-84e9-8b476628942a",
   "metadata": {},
   "source": [
    "Data Science Languages\n",
    "1. Python\n",
    "2. R\n",
    "3. SQL"
   ]
  },
  {
   "cell_type": "markdown",
   "id": "6fd0d41f-7f4b-436e-86d3-96763a0e964f",
   "metadata": {},
   "source": [
    "Data Science Libraries\n",
    "1. Scikit-learn\n",
    "2. TensorFlow\n",
    "3. Pandas"
   ]
  },
  {
   "cell_type": "markdown",
   "id": "4a33fe37-505a-4f93-8220-18af58148a20",
   "metadata": {},
   "source": [
    "Data Science Tools\n",
    "\n",
    "\n",
    "| No | Data Science Tools |\n",
    "| :- | -: |\n",
    "| 1 | Jupyter Notebooks |\n",
    "| 2 | Jupyter Lab |\n",
    "| 3 | RStudio |"
   ]
  },
  {
   "cell_type": "markdown",
   "id": "59461c49-c172-4e81-a542-96fc48a95b7d",
   "metadata": {},
   "source": [
    "An arithmetic expression is an expression using additions +, subtractions -, multiplications *, divisions /, and exponentials. In Jupyter Notebook the $<expression>$ delimiters create what is called an “inline” mathematics.\n",
    "\n",
    "$1+2=3$ "
   ]
  },
  {
   "cell_type": "code",
   "execution_count": 3,
   "id": "73648509-e014-43af-8b74-98791c5c08bb",
   "metadata": {},
   "outputs": [
    {
     "data": {
      "text/plain": [
       "15"
      ]
     },
     "execution_count": 3,
     "metadata": {},
     "output_type": "execute_result"
    }
   ],
   "source": [
    "3*5"
   ]
  },
  {
   "cell_type": "code",
   "execution_count": 4,
   "id": "61ca2e16-ab42-4c3e-8f37-d246755774a3",
   "metadata": {},
   "outputs": [
    {
     "data": {
      "text/plain": [
       "8"
      ]
     },
     "execution_count": 4,
     "metadata": {},
     "output_type": "execute_result"
    }
   ],
   "source": [
    "3+5"
   ]
  },
  {
   "cell_type": "code",
   "execution_count": 16,
   "id": "7d163aac-fe95-4d64-b5e3-68f6046cbe67",
   "metadata": {},
   "outputs": [],
   "source": [
    "def convert_min_to_hour(min):\n",
    "    return f'{min} min is equal {min/60} hours'"
   ]
  },
  {
   "cell_type": "code",
   "execution_count": 17,
   "id": "0f42f15e-9ad1-44b3-8ba2-ba01c0fae637",
   "metadata": {},
   "outputs": [
    {
     "data": {
      "text/plain": [
       "'120 min is equal 2.0 hours'"
      ]
     },
     "execution_count": 17,
     "metadata": {},
     "output_type": "execute_result"
    }
   ],
   "source": [
    "convert_min_to_hour(120)"
   ]
  },
  {
   "cell_type": "markdown",
   "id": "e6e61e74-2822-4c47-bcb1-0ca0cc992a0f",
   "metadata": {},
   "source": [
    "Learning Objective\n",
    "* Describe the components of a Data Scientist's toolkit and list various tool categories.\n",
    "* List examples of open-source tools used in data science.\n",
    "* Describe the relevant features of open-source tools.\n",
    "* List examples of commercial and cloud-based data science tools."
   ]
  },
  {
   "cell_type": "markdown",
   "id": "0a9c7b96-aeb2-44d6-b64a-5b1a600d8827",
   "metadata": {
    "tags": []
   },
   "source": [
    "## Author\n",
    "\n",
    "Aetandrian"
   ]
  },
  {
   "cell_type": "code",
   "execution_count": null,
   "id": "3e227e6e-f1ab-4398-9f12-b24dc64b7b08",
   "metadata": {},
   "outputs": [],
   "source": []
  }
 ],
 "metadata": {
  "kernelspec": {
   "display_name": "Python 3 (ipykernel)",
   "language": "python",
   "name": "python3"
  },
  "language_info": {
   "codemirror_mode": {
    "name": "ipython",
    "version": 3
   },
   "file_extension": ".py",
   "mimetype": "text/x-python",
   "name": "python",
   "nbconvert_exporter": "python",
   "pygments_lexer": "ipython3",
   "version": "3.9.12"
  }
 },
 "nbformat": 4,
 "nbformat_minor": 5
}
