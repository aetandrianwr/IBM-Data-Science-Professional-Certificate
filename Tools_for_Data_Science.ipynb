{
 "cells": [
  {
   "cell_type": "markdown",
   "id": "971eba8e-e362-41c3-a244-2e4f8ffb4480",
   "metadata": {},
   "source": [
    "# Data Science Tools and Ecosystem"
   ]
  },
  {
   "cell_type": "markdown",
   "id": "16159872",
   "metadata": {},
   "source": [
    "In this notebook, Data Science Tools and Ecosystem are summarized "
   ]
  },
  {
   "cell_type": "markdown",
   "id": "e2c27605-396d-4854-84e9-8b476628942a",
   "metadata": {},
   "source": [
    "Data Science Languages\n",
    "1. Python\n",
    "2. R\n",
    "3. SQL\n",
    "4. Scala\n",
    "5. Java"
   ]
  },
  {
   "cell_type": "markdown",
   "id": "6fd0d41f-7f4b-436e-86d3-96763a0e964f",
   "metadata": {},
   "source": [
    "Data Science Libraries\n",
    "1. Scikit-learn\n",
    "2. TensorFlow\n",
    "3. Pandas\n",
    "4. Numpy\n",
    "5. PyTorch"
   ]
  },
  {
   "cell_type": "markdown",
   "id": "4a33fe37-505a-4f93-8220-18af58148a20",
   "metadata": {},
   "source": [
    "Data Science Tools\n",
    "\n",
    "\n",
    "| No | Data Science Tools |\n",
    "| :- | -: |\n",
    "| 1 | Jupyter Notebooks |\n",
    "| 2 | Spyder |\n",
    "| 3 | Zeppelin |\n",
    "| 4 | RStudio |"
   ]
  },
  {
   "cell_type": "markdown",
   "id": "59461c49-c172-4e81-a542-96fc48a95b7d",
   "metadata": {},
   "source": [
    "### Introduction to arithmetic expressions in Python"
   ]
  },
  {
   "cell_type": "code",
   "execution_count": 3,
   "id": "73648509-e014-43af-8b74-98791c5c08bb",
   "metadata": {},
   "outputs": [
    {
     "data": {
      "text/plain": [
       "17"
      ]
     },
     "execution_count": 3,
     "metadata": {},
     "output_type": "execute_result"
    }
   ],
   "source": [
    "# This a simple arithmetic expression to multiply then add integers\n",
    "(3*4)+5"
   ]
  },
  {
   "cell_type": "code",
   "execution_count": 4,
   "id": "61ca2e16-ab42-4c3e-8f37-d246755774a3",
   "metadata": {},
   "outputs": [
    {
     "data": {
      "text/plain": [
       "3.3333333333333335"
      ]
     },
     "execution_count": 4,
     "metadata": {},
     "output_type": "execute_result"
    }
   ],
   "source": [
    "# This will convert 200 minutes to hours by dividing by 60\n",
    "200/60"
   ]
  },
  {
   "cell_type": "markdown",
   "id": "e6e61e74-2822-4c47-bcb1-0ca0cc992a0f",
   "metadata": {},
   "source": [
    "**Objectives:**\n",
    "* Describe the components of a Data Scientist's toolkit and list various tool categories.\n",
    "* List examples of open-source tools used in data science.\n",
    "* Describe the relevant features of open-source tools.\n",
    "* List examples of commercial and cloud-based data science tools."
   ]
  },
  {
   "cell_type": "markdown",
   "id": "0a9c7b96-aeb2-44d6-b64a-5b1a600d8827",
   "metadata": {
    "tags": []
   },
   "source": [
    "## Author\n",
    "\n",
    "Aetandrian"
   ]
  },
  {
   "cell_type": "code",
   "execution_count": null,
   "id": "3e227e6e-f1ab-4398-9f12-b24dc64b7b08",
   "metadata": {},
   "outputs": [],
   "source": []
  }
 ],
 "metadata": {
  "kernelspec": {
   "display_name": "Python 3 (ipykernel)",
   "language": "python",
   "name": "python3"
  },
  "language_info": {
   "codemirror_mode": {
    "name": "ipython",
    "version": 3
   },
   "file_extension": ".py",
   "mimetype": "text/x-python",
   "name": "python",
   "nbconvert_exporter": "python",
   "pygments_lexer": "ipython3",
   "version": "3.9.12"
  }
 },
 "nbformat": 4,
 "nbformat_minor": 5
}
